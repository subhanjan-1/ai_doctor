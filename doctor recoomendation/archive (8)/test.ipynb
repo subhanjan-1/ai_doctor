{
 "cells": [
  {
   "cell_type": "code",
   "execution_count": 19,
   "metadata": {},
   "outputs": [
    {
     "name": "stderr",
     "output_type": "stream",
     "text": [
      "c:\\Users\\Subhanjan\\anaconda3\\lib\\site-packages\\sklearn\\linear_model\\_logistic.py:458: ConvergenceWarning: lbfgs failed to converge (status=1):\n",
      "STOP: TOTAL NO. of ITERATIONS REACHED LIMIT.\n",
      "\n",
      "Increase the number of iterations (max_iter) or scale the data as shown in:\n",
      "    https://scikit-learn.org/stable/modules/preprocessing.html\n",
      "Please also refer to the documentation for alternative solver options:\n",
      "    https://scikit-learn.org/stable/modules/linear_model.html#logistic-regression\n",
      "  n_iter_i = _check_optimize_result(\n"
     ]
    },
    {
     "name": "stdout",
     "output_type": "stream",
     "text": [
      "Symptoms you have: [' back_pain', ' loss_of_smell', ' headache', ' abdominal_pain']\n",
      "Internal Medcine\n"
     ]
    }
   ],
   "source": [
    "from sklearn.linear_model import LogisticRegression\n",
    "model=LogisticRegression()\n",
    "def fit_predict():\n",
    "    import pandas as pd\n",
    "    dataset1=pd.read_csv(\"file4.csv\")\n",
    "    dataset1=dataset1.loc[:, dataset1.columns.notna()]\n",
    "    from sklearn.preprocessing import LabelEncoder\n",
    "    \n",
    "    var_mod = ['Disease']\n",
    "    le = LabelEncoder()\n",
    "    for i in var_mod:\n",
    "        dataset1[i] = le.fit_transform(dataset1[i])\n",
    "    \n",
    "    \n",
    "    X = dataset1.drop(columns=\"Disease\")\n",
    "    y = dataset1['Disease']\n",
    "    from sklearn.linear_model import LogisticRegression\n",
    "    model.fit(X,y)\n",
    "    test_col = []\n",
    "    for col in dataset1.columns:\n",
    "        if col != 'Disease':\n",
    "            test_col.append(col)\n",
    "\n",
    "    symtoms_input=[]\n",
    "    \n",
    "\n",
    "    num_inputs = int(input(\"Enter the number of symptoms you have: \"))\n",
    "    for i in range(num_inputs):\n",
    "        user_input = input(\"Enter Symptoms #{}: \".format(i+1))\n",
    "        symtoms_input.append(user_input)\n",
    "    print(\"Symptoms you have:\", symtoms_input)\n",
    "    no_of_symtoms=len(symtoms_input)\n",
    "    test_data={}\n",
    "    for column in test_col:\n",
    "        test_data[column] = 1 if column in symtoms_input else 0\n",
    "        test_df = pd.DataFrame(test_data, index=[0])\n",
    "    predict_disease=model.predict(test_df)\n",
    "    predict_disease=le.inverse_transform(predict_disease)\n",
    "    \n",
    "    doc_data = pd.read_csv(\"Doctor_Versus_Disease.csv\",encoding='latin1', names=['Disease','Specialist'])\n",
    "    result_df = pd.DataFrame({\"Disease\": predict_disease})\n",
    "    result_df = result_df.merge(doc_data, on='Disease', how='left')\n",
    "    print(result_df[\"Specialist\"][0])\n",
    "\n",
    "\n",
    "fit_predict()"
   ]
  },
  {
   "cell_type": "code",
   "execution_count": null,
   "metadata": {},
   "outputs": [],
   "source": []
  }
 ],
 "metadata": {
  "kernelspec": {
   "display_name": "base",
   "language": "python",
   "name": "python3"
  },
  "language_info": {
   "codemirror_mode": {
    "name": "ipython",
    "version": 3
   },
   "file_extension": ".py",
   "mimetype": "text/x-python",
   "name": "python",
   "nbconvert_exporter": "python",
   "pygments_lexer": "ipython3",
   "version": "3.10.9"
  },
  "orig_nbformat": 4
 },
 "nbformat": 4,
 "nbformat_minor": 2
}
